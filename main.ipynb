import numpy as np
import pandas as pd
from konlpy.tag import Kkma
from konlpy.tag import Hannanum
from konlpy.tag import Okt
import math
import torch
import torch.nn as nn
import torch.optim as optim
import re
import torch.nn.functional as F
import torch.utils.data as data_utils
from torchvision import transforms
from matplotlib import pyplot as plt
%matplotlib inline

class Dataset(data_utils.Dataset):

    def __init__(self, X, y):
        self.X = X
        self.y = y

    def __getitem__(self, idx):
        return {'X': self.X[idx], 'y': self.y[idx]}

    def __len__(self):
        return len(self.X)


class MLPRegressor(nn.Module):

    def __init__(self):
        super(MLPRegressor, self).__init__()
        h1 = nn.Linear(len(X_features), 50)
        h2 = nn.Linear(50, 100)
        h3 = nn.Linear(100, 100)
        h4 = nn.Linear(100, 35)
        h5 = nn.Linear(35, 1)

        self.hidden = nn.Sequential(
            h1,
            nn.Tanh(),
            h2,
            nn.Tanh(),
            h3,
            nn.Tanh(),
            h4,
            nn.Tanh(),
            h5
            
        )
        if use_cuda:
            self.hidden = self.hidden.cuda()

    def forward(self, x):
        o = self.hidden(x)

        return o

trn = pd.read_csv("/content/drive/My Drive/graduation_project/input/train.csv")
val = pd.read_csv("/content/drive/My Drive/graduation_project/input/vali.csv")
X_features = ["feature_1","feature_2","feature_3","feature_4","feature_5","feature_6","feature_7","feature_8"]
y_feature = ["y"]

trn_X_pd, trn_y_pd = trn[X_features], trn[y_feature]
val_X_pd, val_y_pd = val[X_features], val[y_feature]

trn_X = torch.from_numpy(trn_X_pd.astype(float).values).float()
trn_y = torch.from_numpy(trn_y_pd.astype(float).values).float()

val_X = torch.from_numpy(val_X_pd.astype(float).values).float()
val_y = torch.from_numpy(val_y_pd.astype(float).values).float()


batch_size=128


trn = Dataset(trn_X, trn_y)
trn_loader = data_utils.DataLoader(trn, batch_size=batch_size, shuffle=True)

val = Dataset(val_X, val_y)
val_loader = data_utils.DataLoader(val, batch_size=batch_size, shuffle=False)

tmp = next(iter(trn_loader))
num_batches = len(trn_loader)


use_cuda = torch.cuda.is_available()

model = MLPRegressor()
criterion = nn.MSELoss()
learning_rate = 1e-3
optimizer = optim.Adam(model.parameters(), lr=learning_rate)

num_epochs = 50
num_batches = len(trn_loader)

trn_loss_list = []
val_loss_list = []

for epoch in range(num_epochs):
    trn_loss_summary = 0.0
    for i, trn in enumerate(trn_loader):
        trn_X, trn_y = trn['X'], trn['y']
        if use_cuda:
            trn_X, trn_y = trn_X.cuda(), trn_y.cuda()
        optimizer.zero_grad()
        trn_pred = model(trn_X)
        trn_loss = criterion(trn_pred, trn_y)
        trn_loss.backward()
        optimizer.step()

        trn_loss_summary += trn_loss

        if (i + 1) % 15 == 0:
            with torch.no_grad():
                val_loss_summary = 0.0
                for j, val in enumerate(val_loader):
                    val_X, val_y = val['X'], val['y']
                    if use_cuda:
                        val_X, val_y = val_X.cuda(), val_y.cuda()
                    val_pred = model(val_X)
                    val_loss = criterion(val_pred, val_y)
                    val_loss_summary += val_loss

            print("epoch: {}/{} | step: {}/{} | trn_loss: {:.4f} | val_loss: {:.4f}".format(
                epoch + 1, num_epochs, i + 1, num_batches, (trn_loss_summary / 15) ** (1 / 2),
                (val_loss_summary / len(val_loader)) ** (1 / 2)
            ))

            trn_loss_list.append((trn_loss_summary / 15) ** (1 / 2))
            val_loss_list.append((val_loss_summary / len(val_loader)) ** (1 / 2))
            trn_loss_summval = 0.0

print("finish valing")
plt.figure(figsize=(16,9))
x_range = range(len(trn_loss_list))
plt.plot(x_range, trn_loss_list, label="trn")
plt.plot(x_range, val_loss_list, label="val")
plt.legend()
plt.xlabel("training steps")
plt.ylabel("loss")


##TEST
test = pd.read_csv("/content/drive/My Drive/graduation_project/input/test.csv")

test_X_pd, test_y_pd = test[X_features], test[y_feature]


test_X = torch.from_numpy(test_X_pd.astype(float).values).float()
test_y = torch.from_numpy(test_y_pd.astype(float).values).float()

test = Dataset(test_X, test_y)
test_loader = data_utils.DataLoader(test, batch_size=batch_size, shuffle=False)

model.eval()
correct = 0
for i, test in enumerate(test_loader):
    test_X, test_y = test['X'], test['y']
    if use_cuda:
        test_X, test_y = test_X.cuda(), test_y.cuda()
    output = model(test_X)
    print("check",output)
    _, prediction = torch.max(output,1)
    print(prediction)
    pred = torch.round(output)
    print(pred)
    correct += pred.eq(test_y).sum()

print('Test set: Accuracy: {:.2f}%'.format(100. * correct / len(test_loader.dataset)))
