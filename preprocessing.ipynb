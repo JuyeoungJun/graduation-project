from google.colab import drive
drive.mount('/content/drive', force_remount=True)




def cleaning(text):
    result = []
    hangle = re.compile('[^ A-Za-zㄱ-ㅣ가-힣]+')
    for word in text.review:
        if type(word) == int:
            continue
        result.append(hangle.sub('', word))
        # result = hangle.findall(word)

    return result


def preprocessing(text):
    # 불용어 지정
    # stop_words = ['저','.','!!'.'ㅎㅎ','ㅋㅋ','~','....','으로','로']

    okt = Okt()
    hannanum = Hannanum()
    kkma = Kkma()

    result = []
    dic = {}

    # log_point = text[3556:]

    log_count = 0

    for word in text.review:
        log_count+=1
        temp = []
        if word == ' ':
          temp.append(0)
          temp.append(0)
          temp.append(0)
          temp.append(0)
          temp.append(0)
          temp.append(0)
          temp.append(0)
          result.append(temp)
          continue
          
        print("log ", log_count, " complete ")
        
        # word = cleaning()
        temp.append(len(word))  # 1.길이
        temp.append(len(kkma.nouns(word)))  # 2.명사 종류의 갯수
        cnt_str = hannanum.pos(word)
        v_count = 0
        n_count = 0
        p_count = 0

        cnt_np = kkma.pos(word)
        np_count = 0
        ec_count = 0
        ignore_count = 0
        # print(word)
        for cnt in cnt_np:
            if (cnt[1] == "NP"):
                np_count += 1  # 5.대명사
            elif (cnt[1] == "EC" or cnt[1] == "ECD" or cnt[1] == "ECE" or cnt[1] == "ECS"):
                ec_count += 1  # 6.접속사
            elif (cnt[1] == "VV" or cnt[1] == "VXV"):
                v_count += 1  # 3.동사
            elif (cnt[1] == "VA" or cnt[1] == "VXA" or cnt[1] == "XR"):
                p_count += 1  # 4.형용사
            elif (cnt[0] == "리뷰" or cnt[0] == "사진"):
                ignore_count += 1  # 7.리뷰관련 단어
        temp.append(v_count)
        temp.append(p_count)
        temp.append(np_count)
        temp.append(ec_count)
        temp.append(ignore_count)
        result.append(temp)
        ## 희소한 단어: DIC 사용
        dic_plus = kkma.pos(word)
        for t in dic_plus:
            if t[0] in dic:
                dic[t[0]] += 1
            else:
                dic[t[0]] = 1

    # 희귀 단어 count
    print(len(text))

    for i in range(len(text)):
        #print(text.review[i])
        if text.review[i] == ' ':
            result[i].append(0)
            continue
        check = kkma.pos(text.review[i])
        unique = 0
        for t in check:
            if t not in dic:
                continue
            if dic[t[0]] <= 3:
                unique += 1
        result[i].append(unique)  # 8.희귀단어

    # 정규화
    trans = np.transpose(result)

    column_max = []
    column_min = []
    column_mean = []
    column_std = []
    for t in trans:
        column_min.append(min(t))
        column_max.append(max(t))
        column_mean.append(np.mean(t))
        column_std.append(np.std(t))
    for i in range(len(result)):
        for j in range(len(result[i])):
            result[i][j] = (result[i][j] - column_min[j]) / (column_max[j] - column_min[j]+0.00001)

    df = pd.DataFrame(result)
    print("store check")
    df.to_csv('/content/drive/My Drive/graduation_project/input/preprocess1.csv', mode='w')
    df.fillna(0)
    return df.fillna(0)

if __name__ == '__main__':
    text = pd.read_csv('/content/drive/My Drive/graduation_project/input/labeling_data.csv', engine='python',
                       encoding='utf-8', names=['review', 'label'])
    #clean = cleaning(text[2500:].fillna(1))
    #clean = pd.DataFrame(clean, columns=["review"])
    #x = preprocessing(clean)
    #learning(x, text.label.fillna(1))
